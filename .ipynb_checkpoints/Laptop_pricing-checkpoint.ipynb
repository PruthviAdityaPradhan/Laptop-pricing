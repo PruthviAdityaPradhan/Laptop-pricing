{
 "cells": [
  {
   "cell_type": "markdown",
   "id": "3bfcce76-cad9-4cf7-a42f-977005e06336",
   "metadata": {},
   "source": [
    "# Laptop pricing dataset"
   ]
  },
  {
   "cell_type": "code",
   "execution_count": 2,
   "id": "2f7054d7-7125-41dc-b1ff-ec5d3d3278f6",
   "metadata": {},
   "outputs": [],
   "source": [
    "import pandas as pd\n",
    "import numpy as np"
   ]
  },
  {
   "cell_type": "markdown",
   "id": "1a265b78-b13c-4eab-a4dc-28421aeee767",
   "metadata": {},
   "source": [
    "### creating dataframe"
   ]
  },
  {
   "cell_type": "code",
   "execution_count": 3,
   "id": "18dd1294-f0c1-41f4-90b4-1b21d503a2a2",
   "metadata": {},
   "outputs": [],
   "source": [
    "df = pd.read_csv(\"laptop_pricing_dataset_base.csv\")"
   ]
  },
  {
   "cell_type": "code",
   "execution_count": 4,
   "id": "42eb8e27-e452-411d-8d4f-f2c8ae019fc0",
   "metadata": {},
   "outputs": [
    {
     "name": "stdout",
     "output_type": "stream",
     "text": [
      "   Acer  4  IPS Panel  2  1  5   35.56  1.6  8  256 1.6.1   978\n",
      "0  Dell  3    Full HD  1  1  3  39.624  2.0  4  256   2.2   634\n",
      "1  Dell  3    Full HD  1  1  7  39.624  2.7  8  256   2.2   946\n",
      "2  Dell  4  IPS Panel  2  1  5  33.782  1.6  8  128  1.22  1244\n",
      "3    HP  4    Full HD  2  1  7  39.624  1.8  8  256  1.91   837\n",
      "4  Dell  3    Full HD  1  1  5  39.624  1.6  8  256   2.2  1016\n"
     ]
    }
   ],
   "source": [
    "print(df.head())"
   ]
  },
  {
   "cell_type": "markdown",
   "id": "93131745-4d84-4cb1-a9d9-d5fd5eb93be5",
   "metadata": {},
   "source": [
    "### Adding headers to dataframe"
   ]
  },
  {
   "cell_type": "code",
   "execution_count": 5,
   "id": "0b471e24-ac34-452d-a47f-d486b8444a7b",
   "metadata": {},
   "outputs": [
    {
     "name": "stdout",
     "output_type": "stream",
     "text": [
      "  Manufacturer  Category     Screen  GPU  OS  CPU_core Screen_Size_inch  \\\n",
      "0         Dell         3    Full HD    1   1         3           39.624   \n",
      "1         Dell         3    Full HD    1   1         7           39.624   \n",
      "2         Dell         4  IPS Panel    2   1         5           33.782   \n",
      "3           HP         4    Full HD    2   1         7           39.624   \n",
      "4         Dell         3    Full HD    1   1         5           39.624   \n",
      "5           HP         3    Full HD    3   1         5           39.624   \n",
      "6         Acer         3  IPS Panel    2   1         5             38.1   \n",
      "7         Dell         3    Full HD    1   1         5           39.624   \n",
      "8         Acer         3  IPS Panel    3   1         7             38.1   \n",
      "9         Dell         3    Full HD    1   1         7           39.624   \n",
      "\n",
      "   CPU_frequency  RAM_GB  Storage_GB_SSD Weight_kg  Price  \n",
      "0            2.0       4             256       2.2    634  \n",
      "1            2.7       8             256       2.2    946  \n",
      "2            1.6       8             128      1.22   1244  \n",
      "3            1.8       8             256      1.91    837  \n",
      "4            1.6       8             256       2.2   1016  \n",
      "5            1.6       8             256       2.1   1117  \n",
      "6            1.6       4             256       2.2    866  \n",
      "7            2.5       4             256       2.3    812  \n",
      "8            1.8       8             256       2.2   1068  \n",
      "9            1.8       8             256      2.13    975  \n"
     ]
    }
   ],
   "source": [
    "headers = [\"Manufacturer\", \"Category\", \"Screen\", \"GPU\", \"OS\", \"CPU_core\", \"Screen_Size_inch\", \"CPU_frequency\", \"RAM_GB\", \"Storage_GB_SSD\", \"Weight_kg\", \"Price\"]\n",
    "df.columns = headers\n",
    "print(df.head(10))"
   ]
  },
  {
   "cell_type": "code",
   "execution_count": 6,
   "id": "3e2495f9-06df-4f54-be61-21cca1782846",
   "metadata": {},
   "outputs": [
    {
     "data": {
      "text/html": [
       "<div>\n",
       "<style scoped>\n",
       "    .dataframe tbody tr th:only-of-type {\n",
       "        vertical-align: middle;\n",
       "    }\n",
       "\n",
       "    .dataframe tbody tr th {\n",
       "        vertical-align: top;\n",
       "    }\n",
       "\n",
       "    .dataframe thead th {\n",
       "        text-align: right;\n",
       "    }\n",
       "</style>\n",
       "<table border=\"1\" class=\"dataframe\">\n",
       "  <thead>\n",
       "    <tr style=\"text-align: right;\">\n",
       "      <th></th>\n",
       "      <th>Manufacturer</th>\n",
       "      <th>Category</th>\n",
       "      <th>Screen</th>\n",
       "      <th>GPU</th>\n",
       "      <th>OS</th>\n",
       "      <th>CPU_core</th>\n",
       "      <th>Screen_Size_inch</th>\n",
       "      <th>CPU_frequency</th>\n",
       "      <th>RAM_GB</th>\n",
       "      <th>Storage_GB_SSD</th>\n",
       "      <th>Weight_kg</th>\n",
       "      <th>Price</th>\n",
       "    </tr>\n",
       "  </thead>\n",
       "  <tbody>\n",
       "    <tr>\n",
       "      <th>0</th>\n",
       "      <td>Dell</td>\n",
       "      <td>3</td>\n",
       "      <td>Full HD</td>\n",
       "      <td>1</td>\n",
       "      <td>1</td>\n",
       "      <td>3</td>\n",
       "      <td>39.624</td>\n",
       "      <td>2.0</td>\n",
       "      <td>4</td>\n",
       "      <td>256</td>\n",
       "      <td>2.2</td>\n",
       "      <td>634</td>\n",
       "    </tr>\n",
       "    <tr>\n",
       "      <th>1</th>\n",
       "      <td>Dell</td>\n",
       "      <td>3</td>\n",
       "      <td>Full HD</td>\n",
       "      <td>1</td>\n",
       "      <td>1</td>\n",
       "      <td>7</td>\n",
       "      <td>39.624</td>\n",
       "      <td>2.7</td>\n",
       "      <td>8</td>\n",
       "      <td>256</td>\n",
       "      <td>2.2</td>\n",
       "      <td>946</td>\n",
       "    </tr>\n",
       "    <tr>\n",
       "      <th>2</th>\n",
       "      <td>Dell</td>\n",
       "      <td>4</td>\n",
       "      <td>IPS Panel</td>\n",
       "      <td>2</td>\n",
       "      <td>1</td>\n",
       "      <td>5</td>\n",
       "      <td>33.782</td>\n",
       "      <td>1.6</td>\n",
       "      <td>8</td>\n",
       "      <td>128</td>\n",
       "      <td>1.22</td>\n",
       "      <td>1244</td>\n",
       "    </tr>\n",
       "    <tr>\n",
       "      <th>3</th>\n",
       "      <td>HP</td>\n",
       "      <td>4</td>\n",
       "      <td>Full HD</td>\n",
       "      <td>2</td>\n",
       "      <td>1</td>\n",
       "      <td>7</td>\n",
       "      <td>39.624</td>\n",
       "      <td>1.8</td>\n",
       "      <td>8</td>\n",
       "      <td>256</td>\n",
       "      <td>1.91</td>\n",
       "      <td>837</td>\n",
       "    </tr>\n",
       "    <tr>\n",
       "      <th>4</th>\n",
       "      <td>Dell</td>\n",
       "      <td>3</td>\n",
       "      <td>Full HD</td>\n",
       "      <td>1</td>\n",
       "      <td>1</td>\n",
       "      <td>5</td>\n",
       "      <td>39.624</td>\n",
       "      <td>1.6</td>\n",
       "      <td>8</td>\n",
       "      <td>256</td>\n",
       "      <td>2.2</td>\n",
       "      <td>1016</td>\n",
       "    </tr>\n",
       "    <tr>\n",
       "      <th>...</th>\n",
       "      <td>...</td>\n",
       "      <td>...</td>\n",
       "      <td>...</td>\n",
       "      <td>...</td>\n",
       "      <td>...</td>\n",
       "      <td>...</td>\n",
       "      <td>...</td>\n",
       "      <td>...</td>\n",
       "      <td>...</td>\n",
       "      <td>...</td>\n",
       "      <td>...</td>\n",
       "      <td>...</td>\n",
       "    </tr>\n",
       "    <tr>\n",
       "      <th>232</th>\n",
       "      <td>Lenovo</td>\n",
       "      <td>4</td>\n",
       "      <td>IPS Panel</td>\n",
       "      <td>2</td>\n",
       "      <td>1</td>\n",
       "      <td>7</td>\n",
       "      <td>35.56</td>\n",
       "      <td>2.6</td>\n",
       "      <td>8</td>\n",
       "      <td>256</td>\n",
       "      <td>1.7</td>\n",
       "      <td>1891</td>\n",
       "    </tr>\n",
       "    <tr>\n",
       "      <th>233</th>\n",
       "      <td>Toshiba</td>\n",
       "      <td>3</td>\n",
       "      <td>Full HD</td>\n",
       "      <td>2</td>\n",
       "      <td>1</td>\n",
       "      <td>5</td>\n",
       "      <td>33.782</td>\n",
       "      <td>2.4</td>\n",
       "      <td>8</td>\n",
       "      <td>256</td>\n",
       "      <td>1.2</td>\n",
       "      <td>1950</td>\n",
       "    </tr>\n",
       "    <tr>\n",
       "      <th>234</th>\n",
       "      <td>Lenovo</td>\n",
       "      <td>4</td>\n",
       "      <td>IPS Panel</td>\n",
       "      <td>2</td>\n",
       "      <td>1</td>\n",
       "      <td>5</td>\n",
       "      <td>30.48</td>\n",
       "      <td>2.6</td>\n",
       "      <td>8</td>\n",
       "      <td>256</td>\n",
       "      <td>1.36</td>\n",
       "      <td>2236</td>\n",
       "    </tr>\n",
       "    <tr>\n",
       "      <th>235</th>\n",
       "      <td>Lenovo</td>\n",
       "      <td>3</td>\n",
       "      <td>Full HD</td>\n",
       "      <td>3</td>\n",
       "      <td>1</td>\n",
       "      <td>5</td>\n",
       "      <td>39.624</td>\n",
       "      <td>2.5</td>\n",
       "      <td>6</td>\n",
       "      <td>256</td>\n",
       "      <td>2.4</td>\n",
       "      <td>883</td>\n",
       "    </tr>\n",
       "    <tr>\n",
       "      <th>236</th>\n",
       "      <td>Toshiba</td>\n",
       "      <td>3</td>\n",
       "      <td>Full HD</td>\n",
       "      <td>2</td>\n",
       "      <td>1</td>\n",
       "      <td>5</td>\n",
       "      <td>35.56</td>\n",
       "      <td>2.3</td>\n",
       "      <td>8</td>\n",
       "      <td>256</td>\n",
       "      <td>1.95</td>\n",
       "      <td>1499</td>\n",
       "    </tr>\n",
       "  </tbody>\n",
       "</table>\n",
       "<p>237 rows × 12 columns</p>\n",
       "</div>"
      ],
      "text/plain": [
       "    Manufacturer  Category     Screen  GPU  OS  CPU_core Screen_Size_inch  \\\n",
       "0           Dell         3    Full HD    1   1         3           39.624   \n",
       "1           Dell         3    Full HD    1   1         7           39.624   \n",
       "2           Dell         4  IPS Panel    2   1         5           33.782   \n",
       "3             HP         4    Full HD    2   1         7           39.624   \n",
       "4           Dell         3    Full HD    1   1         5           39.624   \n",
       "..           ...       ...        ...  ...  ..       ...              ...   \n",
       "232       Lenovo         4  IPS Panel    2   1         7            35.56   \n",
       "233      Toshiba         3    Full HD    2   1         5           33.782   \n",
       "234       Lenovo         4  IPS Panel    2   1         5            30.48   \n",
       "235       Lenovo         3    Full HD    3   1         5           39.624   \n",
       "236      Toshiba         3    Full HD    2   1         5            35.56   \n",
       "\n",
       "     CPU_frequency  RAM_GB  Storage_GB_SSD Weight_kg  Price  \n",
       "0              2.0       4             256       2.2    634  \n",
       "1              2.7       8             256       2.2    946  \n",
       "2              1.6       8             128      1.22   1244  \n",
       "3              1.8       8             256      1.91    837  \n",
       "4              1.6       8             256       2.2   1016  \n",
       "..             ...     ...             ...       ...    ...  \n",
       "232            2.6       8             256       1.7   1891  \n",
       "233            2.4       8             256       1.2   1950  \n",
       "234            2.6       8             256      1.36   2236  \n",
       "235            2.5       6             256       2.4    883  \n",
       "236            2.3       8             256      1.95   1499  \n",
       "\n",
       "[237 rows x 12 columns]"
      ]
     },
     "execution_count": 6,
     "metadata": {},
     "output_type": "execute_result"
    }
   ],
   "source": [
    "df.replace('?', np.nan)"
   ]
  },
  {
   "cell_type": "code",
   "execution_count": 10,
   "id": "8e977342-ac93-49ff-b3f1-bc1a3325de0b",
   "metadata": {},
   "outputs": [
    {
     "data": {
      "text/plain": [
       "0      2.20\n",
       "1      2.20\n",
       "2      1.22\n",
       "3      1.91\n",
       "4      2.20\n",
       "       ... \n",
       "232    1.70\n",
       "233    1.20\n",
       "234    1.36\n",
       "235    2.40\n",
       "236    1.95\n",
       "Name: Weight_kg, Length: 237, dtype: float64"
      ]
     },
     "execution_count": 10,
     "metadata": {},
     "output_type": "execute_result"
    }
   ],
   "source": [
    "# Convert the column to float, after replacing invalid entries\n",
    "df['Weight_kg'] = pd.to_numeric(df['Weight_kg'], errors='coerce')\n",
    "\n",
    "# Calculate the mean of the column (ignoring NaN values)\n",
    "avg_weight = df['Weight_kg'].mean()\n",
    "\n",
    "# Replace NaN values with the calculated mean\n",
    "df['Weight_kg'].fillna(avg_weight)"
   ]
  },
  {
   "cell_type": "code",
   "execution_count": 13,
   "id": "698814f8-77d4-4df3-b30a-9f79d7faf2d0",
   "metadata": {},
   "outputs": [
    {
     "data": {
      "text/plain": [
       "Index(['Manufacturer', 'Category', 'Screen', 'GPU', 'OS', 'CPU_core',\n",
       "       'Screen_Size_inch', 'CPU_frequency', 'RAM_GB', 'Storage_GB_SSD',\n",
       "       'Weight_kg', 'Price'],\n",
       "      dtype='object')"
      ]
     },
     "execution_count": 13,
     "metadata": {},
     "output_type": "execute_result"
    }
   ],
   "source": [
    "df.columns"
   ]
  },
  {
   "cell_type": "code",
   "execution_count": 16,
   "id": "dc4565d5-442c-45a4-8ab0-bafc74e41bc0",
   "metadata": {},
   "outputs": [
    {
     "data": {
      "text/plain": [
       "0      39.624\n",
       "1      39.624\n",
       "2      33.782\n",
       "3      39.624\n",
       "4      39.624\n",
       "        ...  \n",
       "232     35.56\n",
       "233    33.782\n",
       "234     30.48\n",
       "235    39.624\n",
       "236     35.56\n",
       "Name: Screen_Size_inch, Length: 237, dtype: object"
      ]
     },
     "execution_count": 16,
     "metadata": {},
     "output_type": "execute_result"
    }
   ],
   "source": [
    "common_screen_size = df['Screen_Size_inch'].value_counts().idxmax()\n",
    "df['Screen_Size_inch'].replace(np.nan, common_screen_size)\n"
   ]
  },
  {
   "cell_type": "code",
   "execution_count": null,
   "id": "6913ec11-f43c-4eb8-bb36-abc59967bfb2",
   "metadata": {},
   "outputs": [],
   "source": []
  }
 ],
 "metadata": {
  "kernelspec": {
   "display_name": "Python 3 (ipykernel)",
   "language": "python",
   "name": "python3"
  },
  "language_info": {
   "codemirror_mode": {
    "name": "ipython",
    "version": 3
   },
   "file_extension": ".py",
   "mimetype": "text/x-python",
   "name": "python",
   "nbconvert_exporter": "python",
   "pygments_lexer": "ipython3",
   "version": "3.11.4"
  }
 },
 "nbformat": 4,
 "nbformat_minor": 5
}
