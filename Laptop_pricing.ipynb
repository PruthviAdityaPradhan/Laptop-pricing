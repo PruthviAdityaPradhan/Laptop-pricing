{
 "cells": [
  {
   "cell_type": "markdown",
   "id": "3bfcce76-cad9-4cf7-a42f-977005e06336",
   "metadata": {},
   "source": [
    "# Laptop pricing dataset"
   ]
  },
  {
   "cell_type": "code",
   "execution_count": 2,
   "id": "2f7054d7-7125-41dc-b1ff-ec5d3d3278f6",
   "metadata": {},
   "outputs": [],
   "source": [
    "import pandas as pd\n",
    "import numpy as np"
   ]
  },
  {
   "cell_type": "markdown",
   "id": "1a265b78-b13c-4eab-a4dc-28421aeee767",
   "metadata": {},
   "source": [
    "### creating dataframe"
   ]
  },
  {
   "cell_type": "code",
   "execution_count": 3,
   "id": "18dd1294-f0c1-41f4-90b4-1b21d503a2a2",
   "metadata": {},
   "outputs": [],
   "source": [
    "df = pd.read_csv(\"laptop_pricing_dataset_base.csv\")"
   ]
  },
  {
   "cell_type": "code",
   "execution_count": 4,
   "id": "42eb8e27-e452-411d-8d4f-f2c8ae019fc0",
   "metadata": {},
   "outputs": [
    {
     "name": "stdout",
     "output_type": "stream",
     "text": [
      "   Acer  4  IPS Panel  2  1  5   35.56  1.6  8  256 1.6.1   978\n",
      "0  Dell  3    Full HD  1  1  3  39.624  2.0  4  256   2.2   634\n",
      "1  Dell  3    Full HD  1  1  7  39.624  2.7  8  256   2.2   946\n",
      "2  Dell  4  IPS Panel  2  1  5  33.782  1.6  8  128  1.22  1244\n",
      "3    HP  4    Full HD  2  1  7  39.624  1.8  8  256  1.91   837\n",
      "4  Dell  3    Full HD  1  1  5  39.624  1.6  8  256   2.2  1016\n"
     ]
    }
   ],
   "source": [
    "print(df.head())"
   ]
  },
  {
   "cell_type": "markdown",
   "id": "93131745-4d84-4cb1-a9d9-d5fd5eb93be5",
   "metadata": {},
   "source": [
    "### Adding headers to dataframe"
   ]
  },
  {
   "cell_type": "code",
   "execution_count": 5,
   "id": "0b471e24-ac34-452d-a47f-d486b8444a7b",
   "metadata": {},
   "outputs": [
    {
     "name": "stdout",
     "output_type": "stream",
     "text": [
      "  Manufacturer  Category     Screen  GPU  OS  CPU_core Screen_Size_inch  \\\n",
      "0         Dell         3    Full HD    1   1         3           39.624   \n",
      "1         Dell         3    Full HD    1   1         7           39.624   \n",
      "2         Dell         4  IPS Panel    2   1         5           33.782   \n",
      "3           HP         4    Full HD    2   1         7           39.624   \n",
      "4         Dell         3    Full HD    1   1         5           39.624   \n",
      "5           HP         3    Full HD    3   1         5           39.624   \n",
      "6         Acer         3  IPS Panel    2   1         5             38.1   \n",
      "7         Dell         3    Full HD    1   1         5           39.624   \n",
      "8         Acer         3  IPS Panel    3   1         7             38.1   \n",
      "9         Dell         3    Full HD    1   1         7           39.624   \n",
      "\n",
      "   CPU_frequency  RAM_GB  Storage_GB_SSD Weight_kg  Price  \n",
      "0            2.0       4             256       2.2    634  \n",
      "1            2.7       8             256       2.2    946  \n",
      "2            1.6       8             128      1.22   1244  \n",
      "3            1.8       8             256      1.91    837  \n",
      "4            1.6       8             256       2.2   1016  \n",
      "5            1.6       8             256       2.1   1117  \n",
      "6            1.6       4             256       2.2    866  \n",
      "7            2.5       4             256       2.3    812  \n",
      "8            1.8       8             256       2.2   1068  \n",
      "9            1.8       8             256      2.13    975  \n"
     ]
    }
   ],
   "source": [
    "headers = [\"Manufacturer\", \"Category\", \"Screen\", \"GPU\", \"OS\", \"CPU_core\", \"Screen_Size_inch\", \"CPU_frequency\", \"RAM_GB\", \"Storage_GB_SSD\", \"Weight_kg\", \"Price\"]\n",
    "df.columns = headers\n",
    "print(df.head(10))"
   ]
  },
  {
   "cell_type": "code",
   "execution_count": 8,
   "id": "3e2495f9-06df-4f54-be61-21cca1782846",
   "metadata": {},
   "outputs": [
    {
     "ename": "ValueError",
     "evalue": "For argument \"inplace\" expected type bool, received type str.",
     "output_type": "error",
     "traceback": [
      "\u001b[1;31m---------------------------------------------------------------------------\u001b[0m",
      "\u001b[1;31mValueError\u001b[0m                                Traceback (most recent call last)",
      "Cell \u001b[1;32mIn[8], line 1\u001b[0m\n\u001b[1;32m----> 1\u001b[0m \u001b[43mdf\u001b[49m\u001b[38;5;241;43m.\u001b[39;49m\u001b[43mreplace\u001b[49m\u001b[43m(\u001b[49m\u001b[38;5;124;43m'\u001b[39;49m\u001b[38;5;124;43m?\u001b[39;49m\u001b[38;5;124;43m'\u001b[39;49m\u001b[43m,\u001b[49m\u001b[43m \u001b[49m\u001b[43mnp\u001b[49m\u001b[38;5;241;43m.\u001b[39;49m\u001b[43mnan\u001b[49m\u001b[43m,\u001b[49m\u001b[43m \u001b[49m\u001b[43minplace\u001b[49m\u001b[43m \u001b[49m\u001b[38;5;241;43m=\u001b[39;49m\u001b[43m \u001b[49m\u001b[38;5;124;43m\"\u001b[39;49m\u001b[38;5;124;43mTrue\u001b[39;49m\u001b[38;5;124;43m\"\u001b[39;49m\u001b[43m)\u001b[49m\n",
      "File \u001b[1;32m~\\AppData\\Local\\Programs\\Python\\Python311\\Lib\\site-packages\\pandas\\core\\generic.py:7945\u001b[0m, in \u001b[0;36mNDFrame.replace\u001b[1;34m(self, to_replace, value, inplace, limit, regex, method)\u001b[0m\n\u001b[0;32m   7934\u001b[0m \u001b[38;5;28;01mif\u001b[39;00m \u001b[38;5;129;01mnot\u001b[39;00m (\n\u001b[0;32m   7935\u001b[0m     is_scalar(to_replace)\n\u001b[0;32m   7936\u001b[0m     \u001b[38;5;129;01mor\u001b[39;00m is_re_compilable(to_replace)\n\u001b[0;32m   7937\u001b[0m     \u001b[38;5;129;01mor\u001b[39;00m is_list_like(to_replace)\n\u001b[0;32m   7938\u001b[0m ):\n\u001b[0;32m   7939\u001b[0m     \u001b[38;5;28;01mraise\u001b[39;00m \u001b[38;5;167;01mTypeError\u001b[39;00m(\n\u001b[0;32m   7940\u001b[0m         \u001b[38;5;124m\"\u001b[39m\u001b[38;5;124mExpecting \u001b[39m\u001b[38;5;124m'\u001b[39m\u001b[38;5;124mto_replace\u001b[39m\u001b[38;5;124m'\u001b[39m\u001b[38;5;124m to be either a scalar, array-like, \u001b[39m\u001b[38;5;124m\"\u001b[39m\n\u001b[0;32m   7941\u001b[0m         \u001b[38;5;124m\"\u001b[39m\u001b[38;5;124mdict or None, got invalid type \u001b[39m\u001b[38;5;124m\"\u001b[39m\n\u001b[0;32m   7942\u001b[0m         \u001b[38;5;124mf\u001b[39m\u001b[38;5;124m\"\u001b[39m\u001b[38;5;132;01m{\u001b[39;00m\u001b[38;5;28mrepr\u001b[39m(\u001b[38;5;28mtype\u001b[39m(to_replace)\u001b[38;5;241m.\u001b[39m\u001b[38;5;18m__name__\u001b[39m)\u001b[38;5;132;01m}\u001b[39;00m\u001b[38;5;124m\"\u001b[39m\n\u001b[0;32m   7943\u001b[0m     )\n\u001b[1;32m-> 7945\u001b[0m inplace \u001b[38;5;241m=\u001b[39m \u001b[43mvalidate_bool_kwarg\u001b[49m\u001b[43m(\u001b[49m\u001b[43minplace\u001b[49m\u001b[43m,\u001b[49m\u001b[43m \u001b[49m\u001b[38;5;124;43m\"\u001b[39;49m\u001b[38;5;124;43minplace\u001b[39;49m\u001b[38;5;124;43m\"\u001b[39;49m\u001b[43m)\u001b[49m\n\u001b[0;32m   7946\u001b[0m \u001b[38;5;28;01mif\u001b[39;00m inplace:\n\u001b[0;32m   7947\u001b[0m     \u001b[38;5;28;01mif\u001b[39;00m \u001b[38;5;129;01mnot\u001b[39;00m PYPY \u001b[38;5;129;01mand\u001b[39;00m using_copy_on_write():\n",
      "File \u001b[1;32m~\\AppData\\Local\\Programs\\Python\\Python311\\Lib\\site-packages\\pandas\\util\\_validators.py:264\u001b[0m, in \u001b[0;36mvalidate_bool_kwarg\u001b[1;34m(value, arg_name, none_allowed, int_allowed)\u001b[0m\n\u001b[0;32m    261\u001b[0m     good_value \u001b[38;5;241m=\u001b[39m good_value \u001b[38;5;129;01mor\u001b[39;00m \u001b[38;5;28misinstance\u001b[39m(value, \u001b[38;5;28mint\u001b[39m)\n\u001b[0;32m    263\u001b[0m \u001b[38;5;28;01mif\u001b[39;00m \u001b[38;5;129;01mnot\u001b[39;00m good_value:\n\u001b[1;32m--> 264\u001b[0m     \u001b[38;5;28;01mraise\u001b[39;00m \u001b[38;5;167;01mValueError\u001b[39;00m(\n\u001b[0;32m    265\u001b[0m         \u001b[38;5;124mf\u001b[39m\u001b[38;5;124m'\u001b[39m\u001b[38;5;124mFor argument \u001b[39m\u001b[38;5;124m\"\u001b[39m\u001b[38;5;132;01m{\u001b[39;00marg_name\u001b[38;5;132;01m}\u001b[39;00m\u001b[38;5;124m\"\u001b[39m\u001b[38;5;124m expected type bool, received \u001b[39m\u001b[38;5;124m'\u001b[39m\n\u001b[0;32m    266\u001b[0m         \u001b[38;5;124mf\u001b[39m\u001b[38;5;124m\"\u001b[39m\u001b[38;5;124mtype \u001b[39m\u001b[38;5;132;01m{\u001b[39;00m\u001b[38;5;28mtype\u001b[39m(value)\u001b[38;5;241m.\u001b[39m\u001b[38;5;18m__name__\u001b[39m\u001b[38;5;132;01m}\u001b[39;00m\u001b[38;5;124m.\u001b[39m\u001b[38;5;124m\"\u001b[39m\n\u001b[0;32m    267\u001b[0m     )\n\u001b[0;32m    268\u001b[0m \u001b[38;5;28;01mreturn\u001b[39;00m value\n",
      "\u001b[1;31mValueError\u001b[0m: For argument \"inplace\" expected type bool, received type str."
     ]
    }
   ],
   "source": [
    "df.replace('?', np.nan, inplace = \"True\")"
   ]
  },
  {
   "cell_type": "code",
   "execution_count": null,
   "id": "8e977342-ac93-49ff-b3f1-bc1a3325de0b",
   "metadata": {},
   "outputs": [],
   "source": []
  }
 ],
 "metadata": {
  "kernelspec": {
   "display_name": "Python 3 (ipykernel)",
   "language": "python",
   "name": "python3"
  },
  "language_info": {
   "codemirror_mode": {
    "name": "ipython",
    "version": 3
   },
   "file_extension": ".py",
   "mimetype": "text/x-python",
   "name": "python",
   "nbconvert_exporter": "python",
   "pygments_lexer": "ipython3",
   "version": "3.11.4"
  }
 },
 "nbformat": 4,
 "nbformat_minor": 5
}
