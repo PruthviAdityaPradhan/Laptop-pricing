{
 "cells": [
  {
   "cell_type": "markdown",
   "id": "3bfcce76-cad9-4cf7-a42f-977005e06336",
   "metadata": {},
   "source": [
    "# Laptop pricing dataset"
   ]
  },
  {
   "cell_type": "code",
   "execution_count": 4,
   "id": "2f7054d7-7125-41dc-b1ff-ec5d3d3278f6",
   "metadata": {},
   "outputs": [],
   "source": [
    "import pandas as pd\n",
    "import numpy as np"
   ]
  },
  {
   "cell_type": "markdown",
   "id": "1a265b78-b13c-4eab-a4dc-28421aeee767",
   "metadata": {},
   "source": [
    "### creating dataframe"
   ]
  },
  {
   "cell_type": "code",
   "execution_count": 5,
   "id": "18dd1294-f0c1-41f4-90b4-1b21d503a2a2",
   "metadata": {},
   "outputs": [],
   "source": [
    "df = pd.read_csv(\"laptop_pricing_dataset_base.csv\")"
   ]
  },
  {
   "cell_type": "code",
   "execution_count": 8,
   "id": "42eb8e27-e452-411d-8d4f-f2c8ae019fc0",
   "metadata": {},
   "outputs": [
    {
     "name": "stdout",
     "output_type": "stream",
     "text": [
      "   Acer  4  IPS Panel  2  1  5   35.56  1.6  8  256 1.6.1   978\n",
      "0  Dell  3    Full HD  1  1  3  39.624  2.0  4  256   2.2   634\n",
      "1  Dell  3    Full HD  1  1  7  39.624  2.7  8  256   2.2   946\n",
      "2  Dell  4  IPS Panel  2  1  5  33.782  1.6  8  128  1.22  1244\n",
      "3    HP  4    Full HD  2  1  7  39.624  1.8  8  256  1.91   837\n",
      "4  Dell  3    Full HD  1  1  5  39.624  1.6  8  256   2.2  1016\n"
     ]
    }
   ],
   "source": [
    "print(df.head())"
   ]
  },
  {
   "cell_type": "markdown",
   "id": "93131745-4d84-4cb1-a9d9-d5fd5eb93be5",
   "metadata": {},
   "source": [
    "### Adding headers to dataframe"
   ]
  },
  {
   "cell_type": "code",
   "execution_count": null,
   "id": "0b471e24-ac34-452d-a47f-d486b8444a7b",
   "metadata": {},
   "outputs": [],
   "source": [
    "headers = [\"Manufacturer\", \"Category\", \"Screen\", \"GPU\", \"OS\", \"CPU_core\", \"Screen_Size_inch\", \"CPU_frequency\", \"RAM_GB\", \"Storage_GB_SSD\", \"Weight_kg\", \"Price\"]\n",
    "df.columns = headers\n",
    "print(df.head(10))"
   ]
  }
 ],
 "metadata": {
  "kernelspec": {
   "display_name": "Python 3 (ipykernel)",
   "language": "python",
   "name": "python3"
  },
  "language_info": {
   "codemirror_mode": {
    "name": "ipython",
    "version": 3
   },
   "file_extension": ".py",
   "mimetype": "text/x-python",
   "name": "python",
   "nbconvert_exporter": "python",
   "pygments_lexer": "ipython3",
   "version": "3.11.4"
  }
 },
 "nbformat": 4,
 "nbformat_minor": 5
}
